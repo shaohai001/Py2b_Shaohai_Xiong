{
 "cells": [
  {
   "cell_type": "markdown",
   "id": "d8a0722a",
   "metadata": {},
   "source": [
    "<div style=\"background: black; padding: 10px 250px\"><img src=\"https://www.veldikompetens.se/wp-content/themes/consid/static/icons/VeldiKompetens_Logo_Web_Negative.svg\" title=\"Veldi kompetens\" /></div>\n"
   ]
  },
  {
   "cell_type": "markdown",
   "id": "f92a1757",
   "metadata": {},
   "source": [
    "<hr><h1><center>Exercise 1c - Tips and Tricks for Jupyter Notebook</center></h1>"
   ]
  },
  {
   "cell_type": "markdown",
   "id": "821f9773",
   "metadata": {},
   "source": [
    "### Instructions\n",
    "\n",
    "In this exercise we will cover how to use Jupyter notebooks as well as tips and tricks to improve your productivity. The Jupyter Notebook is an open source web application that you can use to create and share documents that contain live code, equations, visualizations, and text."
   ]
  },
  {
   "cell_type": "markdown",
   "id": "711cf156",
   "metadata": {},
   "source": [
    "### Exercise 1c - Tips and Tricks for Jupyter Notebook"
   ]
  },
  {
   "cell_type": "markdown",
   "id": "253c8aba",
   "metadata": {},
   "source": [
    "#### Part 1: Cells\n",
    "\n",
    "A Jupyter notebook is divided into cells that can contain either text or code. For example, this box contains text which you can edit by double clicking. Once you're done you can exit edit mode på pressing `Ctrl + Enter`.\n",
    "\n",
    "All keyboard shortcuts can be found under `Help > Keyboard Shortcuts`."
   ]
  },
  {
   "cell_type": "code",
   "execution_count": null,
   "id": "81f0989f",
   "metadata": {
    "scrolled": true
   },
   "outputs": [],
   "source": [
    "# As oppose to the previous cell, this cell is for code.\n",
    "# You can edit this as well by clicking on it.\n",
    "# To run this code press Shift + Enter\n",
    "\n",
    "print(\"Hello World!\")"
   ]
  },
  {
   "cell_type": "markdown",
   "id": "47915974",
   "metadata": {},
   "source": [
    "If you have multiple cells in your Notebook, and you run the cells in order, you can share your variables and imports across cells. This makes it easy to separate out your code into logical chunks without needing to reimport libraries or recreate variables or functions in every cell.\n",
    "\n",
    "When you run a cell, you will notice that there are some square braces next to the word In to the left of the cell. The square braces will auto fill with a number that indicates the order that you ran the cells. For example, if you open a fresh Notebook and run the first cell at the top of the Notebook, the square braces will fill with the number 1."
   ]
  },
  {
   "cell_type": "markdown",
   "id": "e03c359a",
   "metadata": {},
   "source": [
    "#### Part 2: The Menus\n",
    "\n",
    "At the top of this page you might notice the notebook menu. Let's walk through it.\n",
    "\n",
    "##### File\n",
    "Here you can create a new Notebook, open existing ones and rename your notebook. One very usefull feature found here is Save and Checkpoint which lets you create checkpoint that you can roll back to when necessary\n",
    "\n",
    "##### Edit\n",
    "Here you can cut, copy, and paste cells. This is also where you would go if you wanted to delete, split, or merge a cell. You can reorder cells here too.\n",
    "\n",
    "Note that some of the items in this menu are greyed out. The reason for this is that they do not apply to the currently selected cell. For example, a code cell cannot have an image inserted into it, but a Markdown cell can. If you see a greyed out menu item, try changing the cell’s type and see if the item becomes available to use.\n",
    "\n",
    "##### View\n",
    "The View menu is useful for toggling the visibility of the header and toolbar. You can also toggle Line Numbers within cells on or off. This is also where you would go if you want to mess about with the cell’s toolbar.\n",
    "\n",
    "##### Insert\n",
    "The Insert menu is just for inserting cells above or below the currently selected cell.\n",
    "\n",
    "##### Cell\n",
    "This menu allows you to run one cell, a group of cells, or all the cells. You can also go here to change a cell’s type, although I personally find the toolbar to be more intuitive for that.\n",
    "\n",
    "The other handy feature in this menu is the ability to clear a cell’s output. If you are planning to share your Notebook with others, you will probably want to clear the output first so that the next person can run the cells themselves.\n",
    "\n",
    "##### Kernel \n",
    "The Kernel cell is for working with the kernel that is running in the background. Here you can restart the kernel, reconnect to it, shut it down, or even change which kernel your Notebook is using.\n",
    "\n",
    "You probably won’t be working with the Kernel all that often, but there are times when you are debugging a Notebook that you will find you need to restart the Kernel. When that happens, this is where you would go.\n",
    "\n",
    "##### Widgets\n",
    "The Widgets menu is for saving and clearing widget state. Widgets are basically JavaScript widgets that you can add to your cells to make dynamic content using Python (or another Kernel).\n",
    "\n",
    "##### Help \n",
    "Finally you have the Help menu, here you can see all keyboard shortcuts, take a tour of the user interface as well as reference material."
   ]
  },
  {
   "cell_type": "markdown",
   "id": "6eb4c8ba",
   "metadata": {},
   "source": [
    "#### Part 3: Running code\n",
    "\n",
    "Let's run some code! The following three cells all contain code, however two of them depend on values in previous cells. The function `small_calculation` depends on the values `x` and `y`, however they aren't defined in the same cell which might seem odd. Let's assume that `x` and `y` take more than 10 minutes to calculate and return the same value each time, then we don't want to rerun those calculations each time we want to run `small_calculation`. Instead we can move them to another cell, run that cell once and use the same values over and over."
   ]
  },
  {
   "cell_type": "code",
   "execution_count": null,
   "id": "d8711841",
   "metadata": {},
   "outputs": [],
   "source": [
    "# Start by running the cell underneath and see what happens.\n",
    "# Then try again, only this time you run this cell first.\n",
    "\n",
    "x, y = 14, 29"
   ]
  },
  {
   "cell_type": "code",
   "execution_count": null,
   "id": "f9bf6df8",
   "metadata": {},
   "outputs": [],
   "source": [
    "def small_calculation():\n",
    "    return x + y\n",
    "\n",
    "print(small_calculation())"
   ]
  },
  {
   "cell_type": "markdown",
   "id": "60ebba60",
   "metadata": {},
   "source": [
    "Underneath we have a number of code cells that each serve a different purpose. For the most part you only want to run the cell you're currently working on, but let's say you just started up a new session and need all to run. Rather than running each cell in the notebook individually you can run all cells by going `Cell > Run All`."
   ]
  },
  {
   "cell_type": "code",
   "execution_count": null,
   "id": "a96c4b8f",
   "metadata": {},
   "outputs": [],
   "source": [
    "# Try running all cells by going Cell > Run All\n",
    "\n",
    "import time;"
   ]
  },
  {
   "cell_type": "code",
   "execution_count": null,
   "id": "57cad074",
   "metadata": {},
   "outputs": [],
   "source": [
    "def connect_to_database():\n",
    "    time.sleep(1)\n",
    "    print(\"Connected!\")"
   ]
  },
  {
   "cell_type": "code",
   "execution_count": null,
   "id": "510ac3e4",
   "metadata": {},
   "outputs": [],
   "source": [
    "def authenticate():\n",
    "    time.sleep(1)\n",
    "    print(\"Logged in!\")"
   ]
  },
  {
   "cell_type": "code",
   "execution_count": null,
   "id": "fcb9ed5f",
   "metadata": {},
   "outputs": [],
   "source": [
    "def fetch_from_database():\n",
    "    time.sleep(1)\n",
    "    print(\"Data fetched!\")"
   ]
  },
  {
   "cell_type": "code",
   "execution_count": null,
   "id": "ace8016d",
   "metadata": {
    "scrolled": true
   },
   "outputs": [],
   "source": [
    "connect_to_database()\n",
    "authenticate()\n",
    "fetch_from_database()"
   ]
  },
  {
   "cell_type": "markdown",
   "id": "aa26dafe",
   "metadata": {},
   "source": [
    "### Closing remarks\n",
    "That covers the basics of how to use a Jupyter notebook, good luck!"
   ]
  }
 ],
 "metadata": {
  "kernelspec": {
   "display_name": "Python 3",
   "language": "python",
   "name": "python3"
  },
  "language_info": {
   "codemirror_mode": {
    "name": "ipython",
    "version": 3
   },
   "file_extension": ".py",
   "mimetype": "text/x-python",
   "name": "python",
   "nbconvert_exporter": "python",
   "pygments_lexer": "ipython3",
   "version": "3.8.8"
  }
 },
 "nbformat": 4,
 "nbformat_minor": 5
}
