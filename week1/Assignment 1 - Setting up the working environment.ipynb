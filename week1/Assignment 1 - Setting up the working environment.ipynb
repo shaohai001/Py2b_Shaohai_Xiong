{
 "cells": [
  {
   "cell_type": "markdown",
   "id": "7e6f4f9a",
   "metadata": {},
   "source": [
    "<div style=\"background: black; padding: 10px 250px\"><img src=\"https://www.veldikompetens.se/wp-content/themes/consid/static/icons/VeldiKompetens_Logo_Web_Negative.svg\" title=\"Veldi kompetens\" /></div>"
   ]
  },
  {
   "cell_type": "markdown",
   "id": "2c93bffd",
   "metadata": {},
   "source": [
    "<hr><h1><center>Assignment 1 - Setting up the working environment</center></h1>"
   ]
  },
  {
   "cell_type": "markdown",
   "id": "12fa6de2",
   "metadata": {},
   "source": [
    "<h3>Instructions </h3>\n",
    "<p>In this Assignment you will be creating the foundations for the coming weeks. If you have done all the exercises you are basicly done and can simply jump to the end of this assingment to the Finally section. </p>"
   ]
  },
  {
   "cell_type": "markdown",
   "id": "18021f40",
   "metadata": {},
   "source": [
    "<h3>1. Setup </h3>\n",
    "<p> Tools needed: </p>\n",
    "<ul>\n",
    "    <li>Have a working installation of Anaconda, Jupyter Notebook and Github</li>\n",
    "</ul>"
   ]
  },
  {
   "cell_type": "markdown",
   "id": "09d44b12",
   "metadata": {},
   "source": [
    "<h3> 2. Creating your first Notebook and connecting it to Github </h3>\n",
    "<h4>2.1 Creating a repository</h4>\n",
    "<ul>\n",
    "    <li>Create a github repository for the course, name the repo Py2b_firstname_lastname where you change firstname and lastname to your name</li>\n",
    "</ul>"
   ]
  },
  {
   "cell_type": "markdown",
   "id": "5994102a",
   "metadata": {},
   "source": [
    "<h4>2.2 Cloning the repository and creating folders</h4>"
   ]
  },
  {
   "cell_type": "markdown",
   "id": "d690b492",
   "metadata": {},
   "source": [
    "<ul>\n",
    "    <li>Clone the repository to your computer</li>\n",
    "    <li>Inside the repository you just cloned create five folders, one for each week. Name them week1, week2, week3 .. week5</li>\n",
    "</ul>"
   ]
  },
  {
   "cell_type": "markdown",
   "id": "c4785032",
   "metadata": {},
   "source": [
    "<h4>2.3 Creating your first notebook</h4>"
   ]
  },
  {
   "cell_type": "markdown",
   "id": "d5bd4f35",
   "metadata": {},
   "source": [
    "<ul>\n",
    "    <li>In week 1 create a notebook called ass1_firstname and inside of it create a code cell that prints hello world</li>\n",
    "    <li>Push the changes you have made to the Py2b_firstname_lastname folder to github, updating the repository </li>\n",
    "    <li>Add me and potentially my colleague/s as collaboratorers on your project (My account can be found on itslearning) </li>\n",
    "    <li>On itslearning for assignment 1 send me a link to your github repo and hand it in (I will be able to access your code via the repository) so you only need to add the link to your repo. Do NOT add the entire folder </li>\n",
    "</ul>"
   ]
  },
  {
   "cell_type": "markdown",
   "id": "dddff74f",
   "metadata": {},
   "source": [
    "Note: All the Week1-5 folders wont be pushed to Github, only the ones that have content inside of them. If you want to you can create empty textfiles inside all of them and then push the Py2B folder if you want them to appear visually on Github."
   ]
  },
  {
   "cell_type": "markdown",
   "id": "cdab1cf3",
   "metadata": {},
   "source": [
    "<h3> Closing remarks </h3>\n",
    "Awesomely done! Next week we will start doing actual coding, amongst other things we will be playing around with this good boi!"
   ]
  },
  {
   "cell_type": "markdown",
   "id": "b1637cc1",
   "metadata": {},
   "source": [
    "<div><img src=\"https://hips.hearstapps.com/hmg-prod.s3.amazonaws.com/images/dog-puppy-on-garden-royalty-free-image-1586966191.jpg\" title=\"Veldi kompetens\" /></div>"
   ]
  },
  {
   "cell_type": "code",
   "execution_count": null,
   "id": "5417fb28",
   "metadata": {},
   "outputs": [],
   "source": []
  }
 ],
 "metadata": {
  "kernelspec": {
   "display_name": "Python 3",
   "language": "python",
   "name": "python3"
  },
  "language_info": {
   "codemirror_mode": {
    "name": "ipython",
    "version": 3
   },
   "file_extension": ".py",
   "mimetype": "text/x-python",
   "name": "python",
   "nbconvert_exporter": "python",
   "pygments_lexer": "ipython3",
   "version": "3.8.8"
  }
 },
 "nbformat": 4,
 "nbformat_minor": 5
}
